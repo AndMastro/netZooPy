{
  "nbformat": 4,
  "nbformat_minor": 0,
  "metadata": {
    "colab": {
      "name": "gpuPanda_tutorial.ipynb",
      "provenance": [],
      "collapsed_sections": [],
      "toc_visible": true,
      "machine_shape": "hm"
    },
    "kernelspec": {
      "name": "python3",
      "display_name": "Python 3"
    },
    "accelerator": "GPU"
  },
  "cells": [
    {
      "cell_type": "markdown",
      "metadata": {
        "id": "RaDKNFlku6d6",
        "colab_type": "text"
      },
      "source": [
        "# NetZooPy Tutorial: running Panda and Lioness using GPU and precision flags"
      ]
    },
    {
      "cell_type": "markdown",
      "metadata": {
        "id": "CWHop1VSe8Fp",
        "colab_type": "text"
      },
      "source": [
        "#1. Setup Environment: download, install & import latest packages"
      ]
    },
    {
      "cell_type": "code",
      "metadata": {
        "id": "gGbB1syJekAh",
        "colab_type": "code",
        "colab": {}
      },
      "source": [
        "import os\n",
        "import s3fs\n",
        "import pandas as pd\n",
        "import numpy as np\n",
        "from psutil import *"
      ],
      "execution_count": 0,
      "outputs": []
    },
    {
      "cell_type": "code",
      "metadata": {
        "id": "ogmMRRhqewZq",
        "colab_type": "code",
        "colab": {}
      },
      "source": [
        "!nvcc --version"
      ],
      "execution_count": 0,
      "outputs": []
    },
    {
      "cell_type": "markdown",
      "metadata": {
        "id": "8LtkmrxtfNXT",
        "colab_type": "text"
      },
      "source": [
        "###  \n",
        "##1.1 Configure cupy for installed Cuda version\n",
        "1.   use cuda version based on above release (*e.g.* release 10.1= cuda101)\n",
        "2.   install cupy version 7.4.0 or above \n",
        "\n"
      ]
    },
    {
      "cell_type": "code",
      "metadata": {
        "id": "Ix7nCFlZfOwr",
        "colab_type": "code",
        "outputId": "4967afd9-0f9a-4124-c77f-a20014999279",
        "colab": {
          "base_uri": "https://localhost:8080/",
          "height": 245
        }
      },
      "source": [
        "!pip install cupy-cuda101==7.4.0\n",
        "import cupy as cp\n",
        "# print(cp.__version__)\n",
        "!pip freeze | grep cupy"
      ],
      "execution_count": 2,
      "outputs": [
        {
          "output_type": "stream",
          "text": [
            "Collecting cupy-cuda101==7.4.0\n",
            "\u001b[?25l  Downloading https://files.pythonhosted.org/packages/e3/ea/bef39342236e3b89587443842f0fdee48a468e9420ed6aad8a481bca02a9/cupy_cuda101-7.4.0-cp36-cp36m-manylinux1_x86_64.whl (361.9MB)\n",
            "\u001b[K     |████████████████████████████████| 361.9MB 43kB/s \n",
            "\u001b[?25hRequirement already satisfied: fastrlock>=0.3 in /usr/local/lib/python3.6/dist-packages (from cupy-cuda101==7.4.0) (0.4)\n",
            "Requirement already satisfied: numpy>=1.9.0 in /usr/local/lib/python3.6/dist-packages (from cupy-cuda101==7.4.0) (1.18.3)\n",
            "Requirement already satisfied: six>=1.9.0 in /usr/local/lib/python3.6/dist-packages (from cupy-cuda101==7.4.0) (1.12.0)\n",
            "Installing collected packages: cupy-cuda101\n",
            "  Found existing installation: cupy-cuda101 6.5.0\n",
            "    Uninstalling cupy-cuda101-6.5.0:\n",
            "      Successfully uninstalled cupy-cuda101-6.5.0\n",
            "Successfully installed cupy-cuda101-7.4.0\n",
            "cupy-cuda101==7.4.0\n"
          ],
          "name": "stdout"
        }
      ]
    },
    {
      "cell_type": "code",
      "metadata": {
        "id": "xRjfbYFd7I3B",
        "colab_type": "code",
        "colab": {}
      },
      "source": [
        "!rm -rf netZooPy"
      ],
      "execution_count": 0,
      "outputs": []
    },
    {
      "cell_type": "code",
      "metadata": {
        "id": "x5-MkWXGfQuY",
        "colab_type": "code",
        "colab": {}
      },
      "source": [
        "!git clone --single-branch --branch devel https://github.com/netZoo/netZooPy.git\n",
        "os.chdir('netZooPy')\n",
        "!pip install -e .\n",
        "os.chdir('..')"
      ],
      "execution_count": 0,
      "outputs": []
    },
    {
      "cell_type": "code",
      "metadata": {
        "id": "k0h_SJjYf2O9",
        "colab_type": "code",
        "colab": {}
      },
      "source": [
        "import netZooPy\n",
        "from netZooPy.panda import Panda\n",
        "from netZooPy.lioness import Lioness"
      ],
      "execution_count": 0,
      "outputs": []
    },
    {
      "cell_type": "markdown",
      "metadata": {
        "id": "eiMr4wpkgDy_",
        "colab_type": "text"
      },
      "source": [
        "#2. Load test data we fetch the data from the [GRAND database](https://grand.networkmedicine.org/download/) "
      ]
    },
    {
      "cell_type": "code",
      "metadata": {
        "id": "q7s_Ea6hf6ov",
        "colab_type": "code",
        "colab": {}
      },
      "source": [
        "LCL_ppi=pd.read_csv('https://granddb.s3.amazonaws.com/cells/ppi/LCL_ppi.txt',sep='\\t',header=None)\n",
        "LCL_expression=pd.read_csv('https://granddb.s3.amazonaws.com/optPANDA/expression/Hugo_exp1_lcl.txt',sep='\\t',header=None)\n",
        "LCL_motif=pd.read_csv('https://granddb.s3.amazonaws.com/gpuPANDA/Hugo_motifCellLine_reduced.txt',sep='\\t',header=None)\n",
        "LCL_ppi.to_csv('LCL_ppi.txt',sep='\\t',index=False)\n",
        "LCL_expression.to_csv('Hugo_exp1_lcl.txt',sep='\\t',index=False)\n",
        "LCL_motif.to_csv('Hugo_motifCellLine_reduced.txt',sep='\\t',index=False)"
      ],
      "execution_count": 0,
      "outputs": []
    },
    {
      "cell_type": "code",
      "metadata": {
        "id": "M5JqR6R4f9zE",
        "colab_type": "code",
        "colab": {}
      },
      "source": [
        "# os.getcwd()\n",
        "expression_data='Hugo_exp1_lcl.txt'\n",
        "motif_data='Hugo_motifCellLine_reduced.txt'\n",
        "ppi_data='LCL_ppi.txt'\n"
      ],
      "execution_count": 0,
      "outputs": []
    },
    {
      "cell_type": "markdown",
      "metadata": {
        "id": "c6ydrGxdgI9B",
        "colab_type": "text"
      },
      "source": [
        "#3. Run Panda with GPU & precision flags"
      ]
    },
    {
      "cell_type": "code",
      "metadata": {
        "id": "yqZCQubJf_By",
        "colab_type": "code",
        "colab": {}
      },
      "source": [
        "panda_obj = Panda(expression_data, motif_data, ppi_data,computing='gpu',precision='single',save_tmp=False,save_memory = False, remove_missing=True, keep_expression_matrix = True,modeProcess = 'intersection')"
      ],
      "execution_count": 0,
      "outputs": []
    },
    {
      "cell_type": "code",
      "metadata": {
        "id": "nDfmfIr6G6X0",
        "colab_type": "code",
        "colab": {}
      },
      "source": [
        "panda_obj.save_panda_results('single_cpu_panda.txt')"
      ],
      "execution_count": 0,
      "outputs": []
    },
    {
      "cell_type": "code",
      "metadata": {
        "id": "n5Y4dQivGUvh",
        "colab_type": "code",
        "colab": {}
      },
      "source": [
        "panda_obj = Lioness(panda_obj,computing='gpu',start=1, end=5, save_dir='lioness_output', save_fmt='txt')#,save_tmp=False,save_memory = True, remove_missing=True, keep_expression_matrix = False,modeProcess = 'intersection')"
      ],
      "execution_count": 0,
      "outputs": []
    },
    {
      "cell_type": "markdown",
      "metadata": {
        "id": "UvHH1Eb7vj6I",
        "colab_type": "text"
      },
      "source": [
        "##GPU and CPU info:"
      ]
    },
    {
      "cell_type": "code",
      "metadata": {
        "id": "_BPEYAGrhB5L",
        "colab_type": "code",
        "colab": {}
      },
      "source": [
        "!nvidia-smi"
      ],
      "execution_count": 0,
      "outputs": []
    },
    {
      "cell_type": "code",
      "metadata": {
        "id": "ZH8EQvZ2hEtV",
        "colab_type": "code",
        "colab": {}
      },
      "source": [
        "!cat /proc/cpuinfo"
      ],
      "execution_count": 0,
      "outputs": []
    },
    {
      "cell_type": "code",
      "metadata": {
        "id": "XyFz7IV5W28i",
        "colab_type": "code",
        "colab": {
          "base_uri": "https://localhost:8080/",
          "height": 34
        },
        "outputId": "daa22d64-aea3-4d63-b0ab-9089f70125ec"
      },
      "source": [
        "panda_obj.panda_network.shape"
      ],
      "execution_count": 17,
      "outputs": [
        {
          "output_type": "execute_result",
          "data": {
            "text/plain": [
              "(1604, 14443)"
            ]
          },
          "metadata": {
            "tags": []
          },
          "execution_count": 17
        }
      ]
    },
    {
      "cell_type": "code",
      "metadata": {
        "id": "vt53s6BaXXmw",
        "colab_type": "code",
        "colab": {}
      },
      "source": [
        ""
      ],
      "execution_count": 0,
      "outputs": []
    }
  ]
}
